{
 "cells": [
  {
   "cell_type": "code",
   "execution_count": null,
   "id": "374ea28d",
   "metadata": {},
   "outputs": [
    {
     "name": "stdout",
     "output_type": "stream",
     "text": [
      " * Serving Flask app \"__main__\" (lazy loading)\n",
      " * Environment: production\n",
      "\u001b[31m   WARNING: This is a development server. Do not use it in a production deployment.\u001b[0m\n",
      "\u001b[2m   Use a production WSGI server instead.\u001b[0m\n",
      " * Debug mode: off\n"
     ]
    },
    {
     "name": "stderr",
     "output_type": "stream",
     "text": [
      " * Running on http://127.0.0.1:5000/ (Press CTRL+C to quit)\n",
      "127.0.0.1 - - [07/Nov/2022 19:06:35] \"GET / HTTP/1.1\" 200 -\n",
      "127.0.0.1 - - [07/Nov/2022 19:06:35] \"GET /static/css/style.css HTTP/1.1\" 404 -\n",
      "127.0.0.1 - - [07/Nov/2022 19:06:49] \"GET /bengaluru HTTP/1.1\" 200 -\n",
      "127.0.0.1 - - [07/Nov/2022 19:06:49] \"GET /static/css/style.css HTTP/1.1\" 404 -\n",
      "C:\\ProgramData\\Anaconda3\\lib\\site-packages\\sklearn\\base.py:450: UserWarning: X does not have valid feature names, but LinearRegression was fitted with feature names\n",
      "  warnings.warn(\n",
      "127.0.0.1 - - [07/Nov/2022 19:07:00] \"POST /predict HTTP/1.1\" 200 -\n",
      "127.0.0.1 - - [07/Nov/2022 19:07:00] \"GET /static/css/style.css HTTP/1.1\" 404 -\n"
     ]
    },
    {
     "name": "stdout",
     "output_type": "stream",
     "text": [
      "[2000, 3, 1, 1, 1]\n"
     ]
    },
    {
     "name": "stderr",
     "output_type": "stream",
     "text": [
      "127.0.0.1 - - [07/Nov/2022 19:07:56] \"GET /delhi HTTP/1.1\" 200 -\n",
      "127.0.0.1 - - [07/Nov/2022 19:07:56] \"GET /static/css/style.css HTTP/1.1\" 404 -\n",
      "C:\\ProgramData\\Anaconda3\\lib\\site-packages\\sklearn\\base.py:450: UserWarning: X does not have valid feature names, but LinearRegression was fitted with feature names\n",
      "  warnings.warn(\n",
      "127.0.0.1 - - [07/Nov/2022 19:08:15] \"POST /predict HTTP/1.1\" 200 -\n",
      "127.0.0.1 - - [07/Nov/2022 19:08:15] \"GET /static/css/style.css HTTP/1.1\" 404 -\n"
     ]
    },
    {
     "name": "stdout",
     "output_type": "stream",
     "text": [
      "[2000, 5, 1, 1, 0]\n"
     ]
    },
    {
     "name": "stderr",
     "output_type": "stream",
     "text": [
      "127.0.0.1 - - [07/Nov/2022 19:08:23] \"GET /hyderabad HTTP/1.1\" 200 -\n",
      "127.0.0.1 - - [07/Nov/2022 19:08:24] \"GET /static/css/style.css HTTP/1.1\" 404 -\n",
      "C:\\ProgramData\\Anaconda3\\lib\\site-packages\\sklearn\\base.py:450: UserWarning: X does not have valid feature names, but LinearRegression was fitted with feature names\n",
      "  warnings.warn(\n",
      "127.0.0.1 - - [07/Nov/2022 19:08:35] \"POST /predict HTTP/1.1\" 200 -\n",
      "127.0.0.1 - - [07/Nov/2022 19:08:35] \"GET /static/css/style.css HTTP/1.1\" 404 -\n"
     ]
    },
    {
     "name": "stdout",
     "output_type": "stream",
     "text": [
      "[1000, 2, 0, 1, 0]\n"
     ]
    },
    {
     "name": "stderr",
     "output_type": "stream",
     "text": [
      "127.0.0.1 - - [07/Nov/2022 19:08:50] \"GET /kolkata HTTP/1.1\" 200 -\n",
      "127.0.0.1 - - [07/Nov/2022 19:08:50] \"GET /static/css/style.css HTTP/1.1\" 404 -\n",
      "C:\\ProgramData\\Anaconda3\\lib\\site-packages\\sklearn\\base.py:450: UserWarning: X does not have valid feature names, but LinearRegression was fitted with feature names\n",
      "  warnings.warn(\n",
      "127.0.0.1 - - [07/Nov/2022 19:09:00] \"POST /predict HTTP/1.1\" 200 -\n",
      "127.0.0.1 - - [07/Nov/2022 19:09:00] \"GET /static/css/style.css HTTP/1.1\" 404 -\n"
     ]
    },
    {
     "name": "stdout",
     "output_type": "stream",
     "text": [
      "[1000, 4, 0, 0, 0]\n"
     ]
    },
    {
     "name": "stderr",
     "output_type": "stream",
     "text": [
      "127.0.0.1 - - [07/Nov/2022 19:09:17] \"GET /mumbai HTTP/1.1\" 200 -\n",
      "127.0.0.1 - - [07/Nov/2022 19:09:17] \"GET /static/css/style.css HTTP/1.1\" 404 -\n",
      "C:\\ProgramData\\Anaconda3\\lib\\site-packages\\sklearn\\base.py:450: UserWarning: X does not have valid feature names, but LinearRegression was fitted with feature names\n",
      "  warnings.warn(\n",
      "127.0.0.1 - - [07/Nov/2022 19:09:27] \"POST /predict HTTP/1.1\" 200 -\n",
      "127.0.0.1 - - [07/Nov/2022 19:09:27] \"GET /static/css/style.css HTTP/1.1\" 404 -\n"
     ]
    },
    {
     "name": "stdout",
     "output_type": "stream",
     "text": [
      "[1500, 3, 1, 1, 0]\n"
     ]
    },
    {
     "name": "stderr",
     "output_type": "stream",
     "text": [
      "127.0.0.1 - - [07/Nov/2022 19:09:33] \"GET /chennai HTTP/1.1\" 200 -\n",
      "127.0.0.1 - - [07/Nov/2022 19:09:33] \"GET /static/css/style.css HTTP/1.1\" 404 -\n",
      "C:\\ProgramData\\Anaconda3\\lib\\site-packages\\sklearn\\base.py:450: UserWarning: X does not have valid feature names, but LinearRegression was fitted with feature names\n",
      "  warnings.warn(\n",
      "127.0.0.1 - - [07/Nov/2022 19:09:43] \"POST /predict HTTP/1.1\" 200 -\n",
      "127.0.0.1 - - [07/Nov/2022 19:09:43] \"GET /static/css/style.css HTTP/1.1\" 404 -\n"
     ]
    },
    {
     "name": "stdout",
     "output_type": "stream",
     "text": [
      "[120, 3, 1, 1, 1]\n"
     ]
    }
   ],
   "source": [
    "import numpy as np\n",
    "from flask import Flask, request, jsonify, render_template\n",
    "import pickle\n",
    "\n",
    "app = Flask(__name__,template_folder='templates')\n",
    "mbanglore = pickle.load(open('bangalore_home_prices_model.pkl', 'rb'))\n",
    "mchennai = pickle.load(open('Chennai_home_prices_model.pkl', 'rb'))\n",
    "mkolkata = pickle.load(open('Kolkata_home_prices_model.pkl', 'rb'))\n",
    "mdelhi = pickle.load(open('Delhi_home_prices_model.pkl', 'rb'))\n",
    "mmumbai = pickle.load(open('Mumbai_home_prices_model.pkl', 'rb'))\n",
    "mhyderabad = pickle.load(open('Hyderabad_home_prices_model.pkl', 'rb'))\n",
    "\n",
    "@app.route('/')\n",
    "def home():\n",
    "    return render_template('cities.html')\n",
    "\n",
    "@app.route('/bengaluru')\n",
    "def bengaluru():\n",
    "    return render_template('index.html' , city_name = 'Bengaluru')\n",
    "\n",
    "@app.route('/hyderabad')\n",
    "def hyderabad():\n",
    "    return render_template('index.html' , city_name = 'Hyderabad')\n",
    "\n",
    "@app.route('/kolkata')\n",
    "def kolkata():\n",
    "    return render_template('index.html' , city_name = 'Kolkata')\n",
    "\n",
    "@app.route('/chennai')\n",
    "def chennai():\n",
    "    return render_template('index.html' , city_name = 'Chennai')\n",
    "\n",
    "@app.route('/mumbai')\n",
    "def mumbai():\n",
    "    return render_template('index.html' , city_name = 'Mumbai')\n",
    "\n",
    "@app.route('/delhi')\n",
    "def delhi():\n",
    "    return render_template('index.html' , city_name = 'Delhi')\n",
    "\n",
    "@app.route('/predict',methods=['POST'])\n",
    "def predict():\n",
    "    '''\n",
    "    For rendering results on HTML GUI\n",
    "    '''\n",
    "    features = [x for x in request.form.values()]\n",
    "    cityname = features[0]\n",
    "    int_features = features[1:]\n",
    "    int_features = [int(x) for x in int_features]\n",
    "    print(int_features)   \n",
    "    final_features = [np.array(int_features)]\n",
    "    if(cityname == \"Bengaluru\"):\n",
    "        prediction = mbanglore.predict(final_features)\n",
    "        output = round(prediction[0], 2)\n",
    "        numbers = \"{:,}\".format(output)\n",
    "        return render_template('index.html', prediction_text='Expected House Price is INR {}'.format(numbers) , city_name =cityname)\n",
    "    if(cityname == \"Hyderabad\"):\n",
    "        prediction = mhyderabad.predict(final_features)\n",
    "        output = round(prediction[0], 2)\n",
    "        numbers = \"{:,}\".format(output)\n",
    "        return render_template('index.html', prediction_text='Expected House Price is INR {}'.format(numbers) , city_name =cityname)\n",
    "    if(cityname == \"Kolkata\"):\n",
    "        prediction = mkolkata.predict(final_features)\n",
    "        output = round(prediction[0], 2)\n",
    "        numbers = \"{:,}\".format(output)\n",
    "        return render_template('index.html', prediction_text='Expected House Price is INR {}'.format(numbers) , city_name =cityname)\n",
    "    if(cityname == \"Chennai\"):\n",
    "        model = pickle.load(open('Chennai_home_prices_model.pkl','rb'))\n",
    "        prediction = model.predict(final_features)\n",
    "        output = round(prediction[0], 2)\n",
    "        numbers = \"{:,}\".format(output)\n",
    "        return render_template('index.html', prediction_text='Expected House Price is INR {}'.format(numbers) , city_name =cityname)\n",
    "    \n",
    "    if(cityname == \"Mumbai\"):\n",
    "        prediction = mmumbai.predict(final_features)\n",
    "        output = round(prediction[0], 2)\n",
    "        numbers = \"{:,}\".format(output)\n",
    "        return render_template('index.html', prediction_text='Expected House Price is INR {}'.format(numbers) , city_name =cityname)\n",
    "    \n",
    "\n",
    "    if(cityname == \"Delhi\"):\n",
    "        prediction = mdelhi.predict(final_features)\n",
    "        output = round(prediction[0], 2)\n",
    "        numbers = \"{:,}\".format(output)\n",
    "        return render_template('index.html', prediction_text='Expected House Price is INR {}'.format(numbers) , city_name =cityname)\n",
    "    \n",
    "@app.route('/predict_api',methods=['POST'])\n",
    "def predict_api():\n",
    "    '''\n",
    "    For direct API calls trought request\n",
    "    '''\n",
    "    data = request.get_json(force=True)\n",
    "    prediction = model.predict([np.array(list(data.values()))])\n",
    "\n",
    "    output = prediction[0]\n",
    "    return jsonify(output)\n",
    "\n",
    "if __name__ == \"__main__\":\n",
    "    app.run(debug=False)"
   ]
  },
  {
   "cell_type": "code",
   "execution_count": null,
   "id": "7fec1bc3",
   "metadata": {},
   "outputs": [],
   "source": []
  },
  {
   "cell_type": "code",
   "execution_count": null,
   "id": "43f36285",
   "metadata": {},
   "outputs": [],
   "source": []
  },
  {
   "cell_type": "code",
   "execution_count": null,
   "id": "ad4b21fb",
   "metadata": {},
   "outputs": [],
   "source": []
  }
 ],
 "metadata": {
  "kernelspec": {
   "display_name": "Python 3 (ipykernel)",
   "language": "python",
   "name": "python3"
  },
  "language_info": {
   "codemirror_mode": {
    "name": "ipython",
    "version": 3
   },
   "file_extension": ".py",
   "mimetype": "text/x-python",
   "name": "python",
   "nbconvert_exporter": "python",
   "pygments_lexer": "ipython3",
   "version": "3.9.7"
  }
 },
 "nbformat": 4,
 "nbformat_minor": 5
}
